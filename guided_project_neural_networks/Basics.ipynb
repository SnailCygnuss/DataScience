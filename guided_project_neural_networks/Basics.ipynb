{
 "cells": [
  {
   "cell_type": "code",
   "execution_count": 1,
   "metadata": {
    "collapsed": true
   },
   "outputs": [],
   "source": [
    "import numpy as np\n",
    "import pandas as pd\n",
    "from matplotlib import pyplot as plt\n",
    "from sklearn.datasets import load_digits"
   ]
  },
  {
   "cell_type": "code",
   "execution_count": 2,
   "metadata": {
    "collapsed": true
   },
   "outputs": [],
   "source": [
    "%matplotlib inline"
   ]
  },
  {
   "cell_type": "code",
   "execution_count": 3,
   "metadata": {
    "collapsed": true
   },
   "outputs": [],
   "source": [
    "digits = load_digits()"
   ]
  },
  {
   "cell_type": "code",
   "execution_count": 4,
   "metadata": {
    "collapsed": false
   },
   "outputs": [
    {
     "data": {
      "text/plain": [
       "{'DESCR': \"Optical Recognition of Handwritten Digits Data Set\\n===================================================\\n\\nNotes\\n-----\\nData Set Characteristics:\\n    :Number of Instances: 5620\\n    :Number of Attributes: 64\\n    :Attribute Information: 8x8 image of integer pixels in the range 0..16.\\n    :Missing Attribute Values: None\\n    :Creator: E. Alpaydin (alpaydin '@' boun.edu.tr)\\n    :Date: July; 1998\\n\\nThis is a copy of the test set of the UCI ML hand-written digits datasets\\nhttp://archive.ics.uci.edu/ml/datasets/Optical+Recognition+of+Handwritten+Digits\\n\\nThe data set contains images of hand-written digits: 10 classes where\\neach class refers to a digit.\\n\\nPreprocessing programs made available by NIST were used to extract\\nnormalized bitmaps of handwritten digits from a preprinted form. From a\\ntotal of 43 people, 30 contributed to the training set and different 13\\nto the test set. 32x32 bitmaps are divided into nonoverlapping blocks of\\n4x4 and the number of on pixels are counted in each block. This generates\\nan input matrix of 8x8 where each element is an integer in the range\\n0..16. This reduces dimensionality and gives invariance to small\\ndistortions.\\n\\nFor info on NIST preprocessing routines, see M. D. Garris, J. L. Blue, G.\\nT. Candela, D. L. Dimmick, J. Geist, P. J. Grother, S. A. Janet, and C.\\nL. Wilson, NIST Form-Based Handprint Recognition System, NISTIR 5469,\\n1994.\\n\\nReferences\\n----------\\n  - C. Kaynak (1995) Methods of Combining Multiple Classifiers and Their\\n    Applications to Handwritten Digit Recognition, MSc Thesis, Institute of\\n    Graduate Studies in Science and Engineering, Bogazici University.\\n  - E. Alpaydin, C. Kaynak (1998) Cascading Classifiers, Kybernetika.\\n  - Ken Tang and Ponnuthurai N. Suganthan and Xi Yao and A. Kai Qin.\\n    Linear dimensionalityreduction using relevance weighted LDA. School of\\n    Electrical and Electronic Engineering Nanyang Technological University.\\n    2005.\\n  - Claudio Gentile. A New Approximate Maximal Margin Classification\\n    Algorithm. NIPS. 2000.\\n\",\n",
       " 'data': array([[ 0.,  0.,  5., ...,  0.,  0.,  0.],\n",
       "        [ 0.,  0.,  0., ..., 10.,  0.,  0.],\n",
       "        [ 0.,  0.,  0., ..., 16.,  9.,  0.],\n",
       "        ...,\n",
       "        [ 0.,  0.,  1., ...,  6.,  0.,  0.],\n",
       "        [ 0.,  0.,  2., ..., 12.,  0.,  0.],\n",
       "        [ 0.,  0., 10., ..., 12.,  1.,  0.]]),\n",
       " 'images': array([[[ 0.,  0.,  5., ...,  1.,  0.,  0.],\n",
       "         [ 0.,  0., 13., ..., 15.,  5.,  0.],\n",
       "         [ 0.,  3., 15., ..., 11.,  8.,  0.],\n",
       "         ...,\n",
       "         [ 0.,  4., 11., ..., 12.,  7.,  0.],\n",
       "         [ 0.,  2., 14., ..., 12.,  0.,  0.],\n",
       "         [ 0.,  0.,  6., ...,  0.,  0.,  0.]],\n",
       " \n",
       "        [[ 0.,  0.,  0., ...,  5.,  0.,  0.],\n",
       "         [ 0.,  0.,  0., ...,  9.,  0.,  0.],\n",
       "         [ 0.,  0.,  3., ...,  6.,  0.,  0.],\n",
       "         ...,\n",
       "         [ 0.,  0.,  1., ...,  6.,  0.,  0.],\n",
       "         [ 0.,  0.,  1., ...,  6.,  0.,  0.],\n",
       "         [ 0.,  0.,  0., ..., 10.,  0.,  0.]],\n",
       " \n",
       "        [[ 0.,  0.,  0., ..., 12.,  0.,  0.],\n",
       "         [ 0.,  0.,  3., ..., 14.,  0.,  0.],\n",
       "         [ 0.,  0.,  8., ..., 16.,  0.,  0.],\n",
       "         ...,\n",
       "         [ 0.,  9., 16., ...,  0.,  0.,  0.],\n",
       "         [ 0.,  3., 13., ..., 11.,  5.,  0.],\n",
       "         [ 0.,  0.,  0., ..., 16.,  9.,  0.]],\n",
       " \n",
       "        ...,\n",
       " \n",
       "        [[ 0.,  0.,  1., ...,  1.,  0.,  0.],\n",
       "         [ 0.,  0., 13., ...,  2.,  1.,  0.],\n",
       "         [ 0.,  0., 16., ..., 16.,  5.,  0.],\n",
       "         ...,\n",
       "         [ 0.,  0., 16., ..., 15.,  0.,  0.],\n",
       "         [ 0.,  0., 15., ..., 16.,  0.,  0.],\n",
       "         [ 0.,  0.,  2., ...,  6.,  0.,  0.]],\n",
       " \n",
       "        [[ 0.,  0.,  2., ...,  0.,  0.,  0.],\n",
       "         [ 0.,  0., 14., ..., 15.,  1.,  0.],\n",
       "         [ 0.,  4., 16., ..., 16.,  7.,  0.],\n",
       "         ...,\n",
       "         [ 0.,  0.,  0., ..., 16.,  2.,  0.],\n",
       "         [ 0.,  0.,  4., ..., 16.,  2.,  0.],\n",
       "         [ 0.,  0.,  5., ..., 12.,  0.,  0.]],\n",
       " \n",
       "        [[ 0.,  0., 10., ...,  1.,  0.,  0.],\n",
       "         [ 0.,  2., 16., ...,  1.,  0.,  0.],\n",
       "         [ 0.,  0., 15., ..., 15.,  0.,  0.],\n",
       "         ...,\n",
       "         [ 0.,  4., 16., ..., 16.,  6.,  0.],\n",
       "         [ 0.,  8., 16., ..., 16.,  8.,  0.],\n",
       "         [ 0.,  1.,  8., ..., 12.,  1.,  0.]]]),\n",
       " 'target': array([0, 1, 2, ..., 8, 9, 8]),\n",
       " 'target_names': array([0, 1, 2, 3, 4, 5, 6, 7, 8, 9])}"
      ]
     },
     "execution_count": 4,
     "metadata": {},
     "output_type": "execute_result"
    }
   ],
   "source": [
    "digits"
   ]
  },
  {
   "cell_type": "code",
   "execution_count": 5,
   "metadata": {
    "collapsed": false
   },
   "outputs": [],
   "source": [
    "digits_features = pd.DataFrame(digits['data'])\n",
    "digits_labels = pd.Series(digits['target'])"
   ]
  },
  {
   "cell_type": "code",
   "execution_count": 6,
   "metadata": {
    "collapsed": false
   },
   "outputs": [
    {
     "name": "stdout",
     "output_type": "stream",
     "text": [
      "<class 'pandas.core.frame.DataFrame'>\n",
      "RangeIndex: 1797 entries, 0 to 1796\n",
      "Data columns (total 64 columns):\n",
      "0     1797 non-null float64\n",
      "1     1797 non-null float64\n",
      "2     1797 non-null float64\n",
      "3     1797 non-null float64\n",
      "4     1797 non-null float64\n",
      "5     1797 non-null float64\n",
      "6     1797 non-null float64\n",
      "7     1797 non-null float64\n",
      "8     1797 non-null float64\n",
      "9     1797 non-null float64\n",
      "10    1797 non-null float64\n",
      "11    1797 non-null float64\n",
      "12    1797 non-null float64\n",
      "13    1797 non-null float64\n",
      "14    1797 non-null float64\n",
      "15    1797 non-null float64\n",
      "16    1797 non-null float64\n",
      "17    1797 non-null float64\n",
      "18    1797 non-null float64\n",
      "19    1797 non-null float64\n",
      "20    1797 non-null float64\n",
      "21    1797 non-null float64\n",
      "22    1797 non-null float64\n",
      "23    1797 non-null float64\n",
      "24    1797 non-null float64\n",
      "25    1797 non-null float64\n",
      "26    1797 non-null float64\n",
      "27    1797 non-null float64\n",
      "28    1797 non-null float64\n",
      "29    1797 non-null float64\n",
      "30    1797 non-null float64\n",
      "31    1797 non-null float64\n",
      "32    1797 non-null float64\n",
      "33    1797 non-null float64\n",
      "34    1797 non-null float64\n",
      "35    1797 non-null float64\n",
      "36    1797 non-null float64\n",
      "37    1797 non-null float64\n",
      "38    1797 non-null float64\n",
      "39    1797 non-null float64\n",
      "40    1797 non-null float64\n",
      "41    1797 non-null float64\n",
      "42    1797 non-null float64\n",
      "43    1797 non-null float64\n",
      "44    1797 non-null float64\n",
      "45    1797 non-null float64\n",
      "46    1797 non-null float64\n",
      "47    1797 non-null float64\n",
      "48    1797 non-null float64\n",
      "49    1797 non-null float64\n",
      "50    1797 non-null float64\n",
      "51    1797 non-null float64\n",
      "52    1797 non-null float64\n",
      "53    1797 non-null float64\n",
      "54    1797 non-null float64\n",
      "55    1797 non-null float64\n",
      "56    1797 non-null float64\n",
      "57    1797 non-null float64\n",
      "58    1797 non-null float64\n",
      "59    1797 non-null float64\n",
      "60    1797 non-null float64\n",
      "61    1797 non-null float64\n",
      "62    1797 non-null float64\n",
      "63    1797 non-null float64\n",
      "dtypes: float64(64)\n",
      "memory usage: 898.6 KB\n"
     ]
    }
   ],
   "source": [
    "digits_features.info()"
   ]
  },
  {
   "cell_type": "code",
   "execution_count": 7,
   "metadata": {
    "collapsed": false
   },
   "outputs": [
    {
     "data": {
      "text/plain": [
       "0       0\n",
       "1       1\n",
       "2       2\n",
       "3       3\n",
       "4       4\n",
       "5       5\n",
       "6       6\n",
       "7       7\n",
       "8       8\n",
       "9       9\n",
       "10      0\n",
       "11      1\n",
       "12      2\n",
       "13      3\n",
       "14      4\n",
       "15      5\n",
       "16      6\n",
       "17      7\n",
       "18      8\n",
       "19      9\n",
       "20      0\n",
       "21      1\n",
       "22      2\n",
       "23      3\n",
       "24      4\n",
       "25      5\n",
       "26      6\n",
       "27      7\n",
       "28      8\n",
       "29      9\n",
       "       ..\n",
       "1767    4\n",
       "1768    0\n",
       "1769    5\n",
       "1770    3\n",
       "1771    6\n",
       "1772    9\n",
       "1773    6\n",
       "1774    1\n",
       "1775    7\n",
       "1776    5\n",
       "1777    4\n",
       "1778    4\n",
       "1779    7\n",
       "1780    2\n",
       "1781    8\n",
       "1782    2\n",
       "1783    2\n",
       "1784    5\n",
       "1785    7\n",
       "1786    9\n",
       "1787    5\n",
       "1788    4\n",
       "1789    8\n",
       "1790    8\n",
       "1791    4\n",
       "1792    9\n",
       "1793    0\n",
       "1794    8\n",
       "1795    9\n",
       "1796    8\n",
       "Length: 1797, dtype: int64"
      ]
     },
     "execution_count": 7,
     "metadata": {},
     "output_type": "execute_result"
    }
   ],
   "source": [
    "digits_labels"
   ]
  },
  {
   "cell_type": "code",
   "execution_count": 8,
   "metadata": {
    "collapsed": false
   },
   "outputs": [
    {
     "data": {
      "image/png": "[encoded data removed]",
      "text/plain": [
       "<matplotlib.figure.Figure at 0x7fd29e35b240>"
      ]
     },
     "metadata": {},
     "output_type": "display_data"
    }
   ],
   "source": [
    "fig, axs = plt.subplots(nrows=2, ncols=4, figsize=(2.5,1.5))\n",
    "rows = [0, 100, 200, 300, 1000, 1100, 1200, 1300]\n",
    "for ax, row in zip(axs.reshape(-1), rows):\n",
    "    np_image = digits_features.iloc[row].values\n",
    "    np_image = np_image.reshape(8, 8)\n",
    "    ax.imshow(np_image, cmap='gray_r')\n",
    "    ax.axis('equal')\n",
    "    ax.axis('off')\n",
    "    ax.set_title(digits_labels.iloc[row])"
   ]
  },
  {
   "cell_type": "markdown",
   "metadata": {},
   "source": [
    "# Split in Train and Test Group"
   ]
  },
  {
   "cell_type": "code",
   "execution_count": 9,
   "metadata": {
    "collapsed": false
   },
   "outputs": [
    {
     "name": "stdout",
     "output_type": "stream",
     "text": [
      "(1438, 64) (1438,)\n",
      "(359, 64) (359,)\n"
     ]
    }
   ],
   "source": [
    "train_features = digits_features.sample(frac=0.8, random_state=1)\n",
    "train_labels = digits_labels[train_features.index]\n",
    "\n",
    "test_features = digits_features[~digits_features.index.isin(train_features.index)]\n",
    "test_labels = digits_labels[test_features.index]\n",
    "\n",
    "print(train_features.shape, train_labels.shape)\n",
    "print(test_features.shape, test_labels.shape)"
   ]
  },
  {
   "cell_type": "markdown",
   "metadata": {},
   "source": [
    "# K-Nearest Neighbor Algorithm"
   ]
  },
  {
   "cell_type": "code",
   "execution_count": 10,
   "metadata": {
    "collapsed": false
   },
   "outputs": [],
   "source": [
    "from sklearn.neighbors import KNeighborsClassifier\n",
    "from sklearn.model_selection import cross_val_score, KFold"
   ]
  },
  {
   "cell_type": "code",
   "execution_count": 18,
   "metadata": {
    "collapsed": false
   },
   "outputs": [],
   "source": [
    "def train(X, y, k):\n",
    "    model = KNeighborsClassifier(n_neighbors=k)\n",
    "    model.fit(X, y)\n",
    "    return model\n",
    "\n",
    "def test(model, X, y):\n",
    "    predictions = model.predict(X)\n",
    "    mse = np.mean(((predictions - y) ** 2))\n",
    "    var = np.var(predictions)\n",
    "    return mse, var\n",
    "\n",
    "def cross_validation(X_train, y_train, X_test, y_test, k=5):\n",
    "    kn_model = KNeighborsClassifier(n_neighbors=k)\n",
    "    kf = KFold(4, shuffle=True, random_state=1)\n",
    "    mses = cross_val_score(kn_model, X_train, y_train, \n",
    "                           scoring='accuracy', cv=kf)\n",
    "    average_mse = np.round(np.mean(np.abs(mses)), 3)\n",
    "    return average_mse\n",
    "\n",
    "def cross_validation_2(X_train, y_train, X_test, y_test, k=5):\n",
    "    kn_model = train(X_train, y_train, k)\n",
    "    mse_train, var_train = test(kn_model, X_train, y_train)\n",
    "    mse_test, var_test = test(kn_model, X_test, y_test)\n",
    "    return mse_train, var_train, mse_test, var_test"
   ]
  },
  {
   "cell_type": "code",
   "execution_count": 19,
   "metadata": {
    "collapsed": false
   },
   "outputs": [
    {
     "data": {
      "text/plain": [
       "<matplotlib.collections.PathCollection at 0x7fd29a70ff28>"
      ]
     },
     "execution_count": 19,
     "metadata": {},
     "output_type": "execute_result"
    },
    {
     "data": {
      "image/png": "[encoded data removed]",
      "text/plain": [
       "<matplotlib.figure.Figure at 0x7fd29a8ed240>"
      ]
     },
     "metadata": {},
     "output_type": "display_data"
    }
   ],
   "source": [
    "average_mses = []\n",
    "for n in range(1, 41):\n",
    "    mse = cross_validation(train_features, train_labels, \n",
    "                           test_features, test_labels, k=n)\n",
    "    average_mses.append(mse)\n",
    "\n",
    "plt.scatter(range(1, 41), average_mses)"
   ]
  },
  {
   "cell_type": "markdown",
   "metadata": {},
   "source": [
    "As the number of neighbours increase, the accuracy score also increases."
   ]
  },
  {
   "cell_type": "markdown",
   "metadata": {},
   "source": [
    "mses_train = []\n",
    "vars_train = []\n",
    "mses_test = []\n",
    "vars_test = []\n",
    "for n in range(1, 3):   \n",
    "    mse_train, var_train, mse_test, var_test = cross_validation_2(\n",
    "                                                train_features, train_labels, \n",
    "                                                test_features, test_labels, \n",
    "                                                k=n)\n",
    "    mses_train.append(mse_train)\n",
    "    vars_train.append(vars_train)\n",
    "    mses_test.append(mse_test)\n",
    "    vars_test.append(var_test)\n",
    "    \n",
    "fig, ax = plt.subplots()\n",
    "ax.plot(range(1, 3), mses_train)\n",
    "ax.plot(range(1, 3), vars_train)\n",
    "ax.plot(range(1, 3), mses_test)\n",
    "ax.plot(range(1, 3), vars_test)"
   ]
  },
  {
   "cell_type": "code",
   "execution_count": 13,
   "metadata": {
    "collapsed": false
   },
   "outputs": [
    {
     "name": "stdout",
     "output_type": "stream",
     "text": [
      "0.0 8.108968084633077 0.5459610027855153 8.542019382220808\n"
     ]
    }
   ],
   "source": [
    "mse_train, var_train, mse_test, var_test = cross_validation_2(\n",
    "                                                train_features, train_labels, \n",
    "                                                test_features, test_labels, \n",
    "                                                k=1)\n",
    "print(mse_train, var_train, mse_test, var_test)"
   ]
  },
  {
   "cell_type": "markdown",
   "metadata": {},
   "source": [
    "# Neural Networks"
   ]
  },
  {
   "cell_type": "code",
   "execution_count": 30,
   "metadata": {
    "collapsed": false
   },
   "outputs": [],
   "source": [
    "from sklearn.neural_network import MLPClassifier\n",
    "from sklearn.metrics import mean_squared_error"
   ]
  },
  {
   "cell_type": "code",
   "execution_count": 34,
   "metadata": {
    "collapsed": false
   },
   "outputs": [
    {
     "name": "stderr",
     "output_type": "stream",
     "text": [
      "/dataquest/system/env/python3/lib/python3.4/site-packages/sklearn/neural_network/multilayer_perceptron.py:563: ConvergenceWarning:\n",
      "\n",
      "Stochastic Optimizer: Maximum iterations reached and the optimization hasn't converged yet.\n",
      "\n"
     ]
    }
   ],
   "source": [
    "def train_test_nn(X_train, y_train, X_test, y_test, neurons=1):\n",
    "    nn = MLPClassifier(hidden_layer_sizes=(neurons))\n",
    "    nn.fit(X_train, y_train)\n",
    "    pred_train = nn.predict(X_train)\n",
    "    pred_test = nn.predict(X_test)\n",
    "    roc_train = mean_squared_error(y_train, pred_train)\n",
    "    roc_test = mean_squared_error(y_test, pred_test)\n",
    "    return roc_train, roc_test\n",
    "\n",
    "rocs_train = []\n",
    "rocs_test = []\n",
    "neurons = [8, 16, 32, 64, 128, 256]\n",
    "for n in neurons:\n",
    "    roc_train, roc_test = train_test_nn(train_features, \n",
    "                                        train_labels, \n",
    "                                        test_features, \n",
    "                                        test_labels, n)\n",
    "    rocs_train.append(roc_train)\n",
    "    rocs_test.append(roc_test)\n",
    "\n"
   ]
  },
  {
   "cell_type": "code",
   "execution_count": 39,
   "metadata": {
    "collapsed": false
   },
   "outputs": [
    {
     "data": {
      "image/png": "[encoded data removed]",
      "text/plain": [
       "<matplotlib.figure.Figure at 0x7fd29a456ef0>"
      ]
     },
     "metadata": {},
     "output_type": "display_data"
    }
   ],
   "source": [
    "plt.plot(neurons, rocs_train, label='train')\n",
    "plt.plot(neurons, rocs_test, label='test')\n",
    "plt.legend()\n",
    "plt.show()"
   ]
  },
  {
   "cell_type": "markdown",
   "metadata": {},
   "source": [
    "Lowest test error is obtained at 128 neurons. At more than that, the test error seems increases."
   ]
  },
  {
   "cell_type": "code",
   "execution_count": 57,
   "metadata": {
    "collapsed": false
   },
   "outputs": [
    {
     "name": "stderr",
     "output_type": "stream",
     "text": [
      "/dataquest/system/env/python3/lib/python3.4/site-packages/sklearn/neural_network/multilayer_perceptron.py:563: ConvergenceWarning:\n",
      "\n",
      "Stochastic Optimizer: Maximum iterations reached and the optimization hasn't converged yet.\n",
      "\n"
     ]
    },
    {
     "ename": "ValueError",
     "evalue": "y_true and y_pred have different number of output (64!=1)",
     "output_type": "error",
     "traceback": [
      "\u001b[1;31m\u001b[0m",
      "\u001b[1;31mValueError\u001b[0mTraceback (most recent call last)",
      "\u001b[1;32m<ipython-input-57-b49402e8bfa4>\u001b[0m in \u001b[0;36m<module>\u001b[1;34m()\u001b[0m\n\u001b[0;32m     31\u001b[0m                                                 \u001b[0mtrain_labels\u001b[0m\u001b[1;33m,\u001b[0m\u001b[1;33m\u001b[0m\u001b[0m\n\u001b[0;32m     32\u001b[0m                                                 \u001b[0mtest_features\u001b[0m\u001b[1;33m,\u001b[0m\u001b[1;33m\u001b[0m\u001b[0m\n\u001b[1;32m---> 33\u001b[1;33m                                                 test_labels, n)\n\u001b[0m\u001b[0;32m     34\u001b[0m     \u001b[0mmses_train\u001b[0m\u001b[1;33m.\u001b[0m\u001b[0mappend\u001b[0m\u001b[1;33m(\u001b[0m\u001b[0mmse_train\u001b[0m\u001b[1;33m)\u001b[0m\u001b[1;33m\u001b[0m\u001b[0m\n\u001b[0;32m     35\u001b[0m     \u001b[0mmses_test\u001b[0m\u001b[1;33m.\u001b[0m\u001b[0mappend\u001b[0m\u001b[1;33m(\u001b[0m\u001b[0mmse_test\u001b[0m\u001b[1;33m)\u001b[0m\u001b[1;33m\u001b[0m\u001b[0m\n",
      "\u001b[1;32m<ipython-input-57-b49402e8bfa4>\u001b[0m in \u001b[0;36mcross_validation_nn\u001b[1;34m(X_train, y_train, X_test, y_test, n)\u001b[0m\n\u001b[0;32m     13\u001b[0m         \u001b[0mnn\u001b[0m\u001b[1;33m.\u001b[0m\u001b[0mfit\u001b[0m\u001b[1;33m(\u001b[0m\u001b[0mX\u001b[0m\u001b[1;33m,\u001b[0m \u001b[0my\u001b[0m\u001b[1;33m)\u001b[0m\u001b[1;33m\u001b[0m\u001b[0m\n\u001b[0;32m     14\u001b[0m         \u001b[0mpredict_train\u001b[0m \u001b[1;33m=\u001b[0m \u001b[0mnn\u001b[0m\u001b[1;33m.\u001b[0m\u001b[0mpredict\u001b[0m\u001b[1;33m(\u001b[0m\u001b[0mXt\u001b[0m\u001b[1;33m)\u001b[0m\u001b[1;33m\u001b[0m\u001b[0m\n\u001b[1;32m---> 15\u001b[1;33m         \u001b[0mmse_train\u001b[0m \u001b[1;33m=\u001b[0m \u001b[0mmean_squared_error\u001b[0m\u001b[1;33m(\u001b[0m\u001b[0myt\u001b[0m\u001b[1;33m,\u001b[0m \u001b[0mpredict_train\u001b[0m\u001b[1;33m)\u001b[0m\u001b[1;33m\u001b[0m\u001b[0m\n\u001b[0m\u001b[0;32m     16\u001b[0m         \u001b[0mmses_train\u001b[0m\u001b[1;33m.\u001b[0m\u001b[0mappend\u001b[0m\u001b[1;33m(\u001b[0m\u001b[0mmse_train\u001b[0m\u001b[1;33m)\u001b[0m\u001b[1;33m\u001b[0m\u001b[0m\n\u001b[0;32m     17\u001b[0m \u001b[1;33m\u001b[0m\u001b[0m\n",
      "\u001b[1;32m/dataquest/system/env/python3/lib/python3.4/site-packages/sklearn/metrics/regression.py\u001b[0m in \u001b[0;36mmean_squared_error\u001b[1;34m(y_true, y_pred, sample_weight, multioutput)\u001b[0m\n\u001b[0;32m    229\u001b[0m     \"\"\"\n\u001b[0;32m    230\u001b[0m     y_type, y_true, y_pred, multioutput = _check_reg_targets(\n\u001b[1;32m--> 231\u001b[1;33m         y_true, y_pred, multioutput)\n\u001b[0m\u001b[0;32m    232\u001b[0m     output_errors = np.average((y_true - y_pred) ** 2, axis=0,\n\u001b[0;32m    233\u001b[0m                                weights=sample_weight)\n",
      "\u001b[1;32m/dataquest/system/env/python3/lib/python3.4/site-packages/sklearn/metrics/regression.py\u001b[0m in \u001b[0;36m_check_reg_targets\u001b[1;34m(y_true, y_pred, multioutput)\u001b[0m\n\u001b[0;32m     84\u001b[0m     \u001b[1;32mif\u001b[0m \u001b[0my_true\u001b[0m\u001b[1;33m.\u001b[0m\u001b[0mshape\u001b[0m\u001b[1;33m[\u001b[0m\u001b[1;36m1\u001b[0m\u001b[1;33m]\u001b[0m \u001b[1;33m!=\u001b[0m \u001b[0my_pred\u001b[0m\u001b[1;33m.\u001b[0m\u001b[0mshape\u001b[0m\u001b[1;33m[\u001b[0m\u001b[1;36m1\u001b[0m\u001b[1;33m]\u001b[0m\u001b[1;33m:\u001b[0m\u001b[1;33m\u001b[0m\u001b[0m\n\u001b[0;32m     85\u001b[0m         raise ValueError(\"y_true and y_pred have different number of output \"\n\u001b[1;32m---> 86\u001b[1;33m                          \"({0}!={1})\".format(y_true.shape[1], y_pred.shape[1]))\n\u001b[0m\u001b[0;32m     87\u001b[0m \u001b[1;33m\u001b[0m\u001b[0m\n\u001b[0;32m     88\u001b[0m     \u001b[0mn_outputs\u001b[0m \u001b[1;33m=\u001b[0m \u001b[0my_true\u001b[0m\u001b[1;33m.\u001b[0m\u001b[0mshape\u001b[0m\u001b[1;33m[\u001b[0m\u001b[1;36m1\u001b[0m\u001b[1;33m]\u001b[0m\u001b[1;33m\u001b[0m\u001b[0m\n",
      "\u001b[1;31mValueError\u001b[0m: y_true and y_pred have different number of output (64!=1)"
     ]
    }
   ],
   "source": [
    "def cross_validation_nn(X_train, y_train, X_test, y_test, n=5):\n",
    "    nn = MLPClassifier(hidden_layer_sizes=(n, n, n))\n",
    "    kf = KFold(6, shuffle=True, random_state=1)\n",
    "    mses_train = []\n",
    "    mses_test = []\n",
    "    \n",
    "    for train_index, test_index in kf.split(X_train):\n",
    "        X = X_train.iloc[train_index]\n",
    "        y = y_train.iloc[train_index]\n",
    "        Xt = X_train.iloc[test_index]\n",
    "        yt = X_train.iloc[test_index]\n",
    "        \n",
    "        nn.fit(X, y)\n",
    "        predict_train = nn.predict(Xt)\n",
    "        mse_train = mean_squared_error(yt, predict_train)\n",
    "        mses_train.append(mse_train)\n",
    "        \n",
    "        predict_test = nn.predict(X_test)\n",
    "        mse_test = mean_squared_error(y_test, predict_test)\n",
    "        mses_test.append(mse_test)\n",
    "        \n",
    "    avg_mse_train = np.mean(mses_train)\n",
    "    avg_mse_test = np.mean(mses_test)\n",
    "    return avg_mse_train, avg_mse_test\n",
    "\n",
    "neurons = [10, 64, 128]\n",
    "mses_train = []\n",
    "mses_test = []\n",
    "for n in neurons:\n",
    "    mse_train, mse_test = cross_validation_nn(train_features, \n",
    "                                                train_labels, \n",
    "                                                test_features, \n",
    "                                                test_labels, n)\n",
    "    mses_train.append(mse_train)\n",
    "    mses_test.append(mse_test)"
   ]
  },
  {
   "cell_type": "code",
   "execution_count": 58,
   "metadata": {
    "collapsed": false
   },
   "outputs": [
    {
     "name": "stderr",
     "output_type": "stream",
     "text": [
      "/dataquest/system/env/python3/lib/python3.4/site-packages/sklearn/neural_network/multilayer_perceptron.py:563: ConvergenceWarning:\n",
      "\n",
      "Stochastic Optimizer: Maximum iterations reached and the optimization hasn't converged yet.\n",
      "\n"
     ]
    }
   ],
   "source": [
    "def train_test_nn(X_train, y_train, X_test, y_test, neurons=1):\n",
    "    nn = MLPClassifier(hidden_layer_sizes=(neurons, neurons, neurons))\n",
    "    nn.fit(X_train, y_train)\n",
    "    pred_train = nn.predict(X_train)\n",
    "    pred_test = nn.predict(X_test)\n",
    "    roc_train = mean_squared_error(y_train, pred_train)\n",
    "    roc_test = mean_squared_error(y_test, pred_test)\n",
    "    return roc_train, roc_test\n",
    "\n",
    "rocs_train = []\n",
    "rocs_test = []\n",
    "neurons = [10, 64, 128]\n",
    "for n in neurons:\n",
    "    roc_train, roc_test = train_test_nn(train_features, \n",
    "                                        train_labels, \n",
    "                                        test_features, \n",
    "                                        test_labels, n)\n",
    "    rocs_train.append(roc_train)\n",
    "    rocs_test.append(roc_test)\n",
    "\n"
   ]
  },
  {
   "cell_type": "code",
   "execution_count": 59,
   "metadata": {
    "collapsed": false
   },
   "outputs": [
    {
     "data": {
      "image/png": "[encoded data removed]",
      "text/plain": [
       "<matplotlib.figure.Figure at 0x7fd29a270860>"
      ]
     },
     "metadata": {},
     "output_type": "display_data"
    }
   ],
   "source": [
    "plt.plot(neurons, rocs_train, label='train')\n",
    "plt.plot(neurons, rocs_test, label='test')\n",
    "plt.legend()\n",
    "plt.show()"
   ]
  },
  {
   "cell_type": "markdown",
   "metadata": {},
   "source": [
    "With three layers and 64 neurons, we get lower error that single layer."
   ]
  },
  {
   "cell_type": "code",
   "execution_count": 61,
   "metadata": {
    "collapsed": false
   },
   "outputs": [
    {
     "data": {
      "text/plain": [
       "MLPClassifier(activation='relu', alpha=0.0001, batch_size='auto', beta_1=0.9,\n",
       "       beta_2=0.999, early_stopping=False, epsilon=1e-08,\n",
       "       hidden_layer_sizes=(64, 64, 64), learning_rate='constant',\n",
       "       learning_rate_init=0.001, max_iter=200, momentum=0.9,\n",
       "       nesterovs_momentum=True, power_t=0.5, random_state=None,\n",
       "       shuffle=True, solver='adam', tol=0.0001, validation_fraction=0.1,\n",
       "       verbose=False, warm_start=False)"
      ]
     },
     "execution_count": 61,
     "metadata": {},
     "output_type": "execute_result"
    }
   ],
   "source": [
    "nn = MLPClassifier(hidden_layer_sizes=(64, 64, 64))\n",
    "nn.fit(train_features, train_labels)"
   ]
  },
  {
   "cell_type": "code",
   "execution_count": 108,
   "metadata": {
    "collapsed": false
   },
   "outputs": [
    {
     "data": {
      "image/png": "[encoded data removed]",
      "text/plain": [
       "<matplotlib.figure.Figure at 0x7fd29a3d9a20>"
      ]
     },
     "metadata": {},
     "output_type": "display_data"
    },
    {
     "name": "stdout",
     "output_type": "stream",
     "text": [
      "Predicted value is [2]\n",
      "Actual value is 2\n"
     ]
    }
   ],
   "source": [
    "row = np.random.choice(test_features.index)\n",
    "np_image = digits_features.iloc[row].values\n",
    "np_image = np_image.reshape(8, 8)\n",
    "fig, ax = plt.subplots(figsize=(1, 1))\n",
    "ax.imshow(np_image, cmap='gray_r')\n",
    "ax.axis('equal')\n",
    "ax.axis('off')\n",
    "plt.show()\n",
    "\n",
    "prediction = nn.predict(test_features.loc[row].values.reshape(1,-1))\n",
    "print('Predicted value is {}'.format(prediction))\n",
    "print('Actual value is {}'.format(digits_labels.iloc[row]))"
   ]
  },
  {
   "cell_type": "markdown",
   "metadata": {},
   "source": [
    "# Slide 1\n",
    "In the last mission, we learned how adding hidden layers of neurons to a neural network can improve its ability to capture nonlinearity in the data. We tested different neural networks models on a dataset that we generated with deliberate nonlinearity.\n",
    "\n",
    "In this Guided Project, we'll:\n",
    "\n",
    "explore why image classification is a hard task\n",
    "observe the limitations of traditional machine learning models for image classification\n",
    "train, test, and improve a few different deep neural networks for image classification\n",
    "As we mentioned in the first mission in this course, deep neural networks have been used to reach state-of-the-art performance on image classification tasks in the last decade. For some image classification tasks, deep neural networks actually perform as well as or slightly better than the human benchmark. You can read about the history of deep neural networks here.\n",
    "\n",
    "To end this course, we'll build models that can classify handwritten digits. Before the year 2000, institutions like the United States Post Office used handwriting recognition software to read addresses, zip codes, and more. One of their approaches, which consists of pre-processing handwritten images then feeding to a neural network model is detailed in this paper.\n",
    "\n",
    "Why is image classifcation a hard task?\n",
    "\n",
    "Within the field of machine learning and pattern recognition, image classification (especially for handwritten text) is towards the difficult end of the spectrum. There are a few reasons for this.\n",
    "\n",
    "First, each image in a training set is high dimensional. Each pixel in an image is a feature and a separate column. This means that a 128 x 128 image has 16384 features.\n",
    "\n",
    "Second, images are often downsampled to lower resolutions and transformed to grayscale (no color). This is a limitation of compute power unfortunately. The resolution of a 8 megapixel photo has 3264 by 2448 pixels, for a total of 7,990,272 features (or about 8 million). Images of this resolution are usually scaled down to between 128 and 512 pixels in either direction for significantly faster processing. This often results in a loss of detail that's available for training and pattern matching.\n",
    "\n",
    "Third, the features in an image don't have an obvious linear or nonlinear relationship that can be learned with a model like linear or logistic regression. In grayscale, each pixel is just represented as a brightness value ranging from 0 to 256.\n",
    "\n",
    "Here's an example of how an image is represented across the different abstractions we care about:\n",
    "\n",
    "Single Image\n",
    "\n",
    "Why is deep learning effective in image classification?\n",
    "\n",
    "Deep learning is effective in image classification because of the models' ability to learn hierarchical representations. At a high level, an effective deep learning model learns intermediate representations at each layer in the model and uses them in the prediction process. Here's a diagram that visualizes what the weights represent at each layer of a convolutional neural network, a type of network that's often used in image classification and unfortunately out of scope for this course, which was trained to identify faces.\n",
    "\n",
    "NN Learns Hierarchy\n",
    "\n",
    "You'll notice in the first hidden layer the network learned to represent edges and specific features of faces. In the second hidden layer, the weights seemed to represent higher level facial features like eyes and noses. Finally, the weights in the last hidden layer resemble faces that could be matched against. Each successive layer uses weights from previous layers to try to learn more complex representations.\n",
    "\n",
    "In this Guided Project, we'll explore the effectiveness of deep, feedforward neural networks at classifying images."
   ]
  },
  {
   "cell_type": "markdown",
   "metadata": {},
   "source": [
    "# Slide 2\n",
    "Scikit-learn contains a number of datasets pre-loaded with the library, within the namespace of sklearn.datasets. The load_digits() function returns a copy of the hand-written digits dataset from UCI.\n",
    "\n",
    "Because dataframes are a tabular representation of data, each image is represented as a row of pixel values. To visualize an image from the dataframe, we need to reshape the image back to its original dimensions (28 x 28 pixels). To visualize the image, we need to reshape these pixel values back into the 28 by 28 and plot them on a coordinate grid.\n",
    "\n",
    "To reshape the image, we need to convert a training example to a numpy array (excluding the label column) and pass the result into that into the numpy.reshape() function:\n",
    "\n",
    "first_image = train.iloc[0]\n",
    "first_image = first_image.drop('label', axis=1)\n",
    "np_image = first_image.values\n",
    "np_image = np_image.reshape(28,28)\n",
    "Now that the data is in the right shape, we can visualize it using pyplot.imshow() function:\n",
    "\n",
    "plt.imshow(np_image, cmap='gray_r')\n",
    "To display multiple images in one matplotlib figure, we can use the equivalent axes.imshow() function. Let's use what we've learned to display images from both classes.\n",
    "\n",
    "Instructions\n",
    "\n",
    "Import load_digits() from the sklearn.datasets package.\n",
    "Transform the NumPy 2D array into a pandas dataframe.\n",
    "Use matplotlib to visualize some of the images in the dataset.\n",
    "Generate a scatter plot grid, with 2 rows and 4 columns.\n",
    "In the first row:\n",
    "Display the images corresponding to rows 0, 100, 200, and 300.\n",
    "In the second row:\n",
    "Display the images corresponding to rows 1000, 1100, 1200, and 1300."
   ]
  },
  {
   "cell_type": "markdown",
   "metadata": {},
   "source": [
    "# Slide 3\n",
    "While linear and logistic regression models make assumptions about the linearity between the features and the output labels, the k-nearest neighbors algorithm make no such assumption. This allows them to capture nonlinearity in the data. If you recall, k-nearest neighbors don't have a specific model representation (hence why it's referred to as an algorithm and not a model).\n",
    "\n",
    "The k-nearest neighbors algorithm compares every unseen observation in the test set to all (or many, as some implementations constrain the search space) training observations to look for similar (or the \"nearest\") observations. Then, the algorithm finds the label with the most nearby observations and assigns that as the prediction for the unseen observation.\n",
    "\n",
    "Recall that you can use the KNeighborsClassifier package to train and test k-nearest neighbors models.\n",
    "\n",
    "Instructions\n",
    "\n",
    "Split up the data into train and test sets.\n",
    "Setup a pipeline for testing and training k-nn models.\n",
    "Write a function named train() that uses KNeighborsClassifer for training k-nearest neighbors models.\n",
    "Write a function named test() that tests the model.\n",
    "Write a function named cross_validate() that performs 4-fold cross validation using train() and test().\n",
    "Experiment with different values for k and plot the resulting classification accuracies."
   ]
  },
  {
   "cell_type": "markdown",
   "metadata": {},
   "source": [
    "# Slide 4\n",
    "There are a few downsides to using k-nearest neighbors:\n",
    "\n",
    "high memory usage (for each new unseen observation, many comparisons need to be made to seen observations)\n",
    "no model representation to debug and explore\n",
    "Let's now try a neural network with a single hidden layer. Use the MLPClassifier package from scikit-learn.\n",
    "\n",
    "Instructions\n",
    "\n",
    "Using 4-fold cross validation:\n",
    "\n",
    "Train and test a neural network model using a single hidden layer of 8 neurons.\n",
    "Train and test a neural network model using a single hidden layer of 16 neurons.\n",
    "Train and test a neural network model using a single hidden layer of 32 neurons.\n",
    "Train and test a neural network model using a single hidden layer of 64 neurons.\n",
    "Train and test a neural network model using a single hidden layer of 128 neurons.\n",
    "Train and test a neural network model using a single hidden layer of 256 neurons.\n",
    "Create a new Markdown cell summarizing what you saw.\n",
    "\n",
    "Rank the performance of the models by the overall accuracies.\n",
    "Which models, if any, start to overfit?\n",
    "For each model, you could compute and visualize the performance for both the train and test sets to understand how they diverged. Models that overfit tend to perform well on the train set but poorly on the test set."
   ]
  },
  {
   "cell_type": "markdown",
   "metadata": {},
   "source": [
    "# Slide 5\n",
    "Adding more neurons to a single hidden layer vastly improved the classification accuracy.\n",
    "\n",
    "Let's try using two hidden layers and continue to increase the number of neurons in each layer.\n",
    "\n",
    "Instructions\n",
    "\n",
    "Modify the neural network training pipeline to use 2 hidden layers instead in the network.\n",
    "Using 4-fold cross validation:\n",
    "Train a neural network model using 2 hidden layers:\n",
    "64 neurons in the first hidden layer.\n",
    "64 neurons in the second hidden layer.\n",
    "Create a new Markdown cell summarizing what you saw.\n",
    "\n",
    "Rank the performance of the models by the overall accuracies.\n",
    "Which models, if any, start to overfit?\n",
    "For each model, you could compute and visualize the performance for both the train and test sets to understand how they diverged. Models that overfit tend to perform well on the train set but poorly on the test set."
   ]
  },
  {
   "cell_type": "markdown",
   "metadata": {},
   "source": [
    "# Slide 6\n",
    "Using more hidden layers is known to increase the amount of overfitting that happens. To help us prevent overfitting, let's increase the number of folds we use for k-fold cross validation to 6 while testing networks with 3 hidden layers.\n",
    "\n",
    "Instructions\n",
    "\n",
    "Modify the neural network training pipeline to use 6 fold cross validation instead.\n",
    "Train a neural network model using 3 hidden layers:\n",
    "10 neurons in the first hidden layer.\n",
    "10 neurons in the second hidden layer.\n",
    "10 neurons in the third hidden layer.\n",
    "Train a neural network model using 3 hidden layers:\n",
    "64 neurons in the first hidden layer.\n",
    "64 neurons in the second hidden layer.\n",
    "64 neurons in the third hidden layer.\n",
    "Train a neural network model using 3 hidden layers:\n",
    "128 neurons in the first hidden layer.\n",
    "128 neurons in the second hidden layer.\n",
    "128 neurons in the third hidden layer.\n",
    "Create a new Markdown cell summarizing what you saw.\n",
    "\n",
    "Rank the performance of the models by the overall accuracies.\n",
    "Which models, if any, start to overfit?\n",
    "For each model, you could compute and visualize the performance for both the train and test sets to understand how they diverged. Models that overfit tend to perform well on the train set but poorly on the test set."
   ]
  },
  {
   "cell_type": "markdown",
   "metadata": {},
   "source": [
    "# Slide 7\n",
    "In this guided project, you experimented with different models to classify handwritten digits. That's it for the guided steps.\n",
    "\n",
    "Here are some next steps to try:\n",
    "\n",
    "* Use the existing pipeline you've built to try other machine learning models:\n",
    "    * Decision Tree Models\n",
    "    * Random Forest Models\n",
    "* Write up a summary of the effectiveness of the different models you tried, with data to back up your conclusions.\n",
    "* Experiment with different activation functions to see if the accuracies improve.\n",
    "* Research some techniques for visualizing weights in neural network models and add a visualization step to your pipeline.\n",
    "* Visualization of MLP Weights on MNIST (https://scikit-learn.org/stable/auto_examples/neural_networks/plot_mnist_filters.html)\n",
    "* Curious to see what other students have done on this project? (https://community.dataquest.io/tags/c/social/share/49/244) Head over to our Community to check them out. While you are there, please remember to show some love and give your own feedback!\n",
    "\n",
    "* And of course, we welcome you to share your own project and show off your hard work. Head over to our Community to share your finished Guided Project!\n",
    "\n",
    "In future courses, we'd like to dive deeper into:\n",
    "\n",
    "* Image classification and computer vision\n",
    "* Higher performance tools for neural networks (like Tensorflow or PyTorch)\n",
    "* Different neural network architectures (like Convolutional Neural Networks)"
   ]
  }
 ],
 "metadata": {
  "anaconda-cloud": {},
  "kernelspec": {
   "display_name": "Python 3",
   "language": "python",
   "name": "python3"
  },
  "language_info": {
   "codemirror_mode": {
    "name": "ipython",
    "version": 3
   },
   "file_extension": ".py",
   "mimetype": "text/x-python",
   "name": "python",
   "nbconvert_exporter": "python",
   "pygments_lexer": "ipython3",
   "version": "3.4.3"
  }
 },
 "nbformat": 4,
 "nbformat_minor": 2
}
